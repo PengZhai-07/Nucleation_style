{
 "cells": [
  {
   "cell_type": "code",
   "execution_count": 1,
   "metadata": {},
   "outputs": [
    {
     "name": "stderr",
     "output_type": "stream",
     "text": [
      "\u001b[36m\u001b[1m[ \u001b[22m\u001b[39m\u001b[36m\u001b[1mInfo: \u001b[22m\u001b[39mPrecompiling HOHQMesh [e4f4c7b8-17cb-445a-93c5-f69190ed6c8c]\n"
     ]
    }
   ],
   "source": [
    "# Interactive mesh from a HOHQMesh control file\n",
    "#\n",
    "# Reads in the `AllFeatures.control` file, creates a `HQMTool` project,\n",
    "# and generates a mesh file. More details abuot the outer / inner boundary\n",
    "# curves, refinement regions, etc. of HOHQMesh can be found in its documentation\n",
    "# https://trixi-framework.github.io/HOHQMesh/\n",
    "#\n",
    "# Keywords: outer boundary chain, inner boundary chain, refinement region, control file read in\n",
    "\n",
    "using HOHQMesh\n",
    "using GLMakie\n",
    "\n"
   ]
  },
  {
   "cell_type": "code",
   "execution_count": 5,
   "metadata": {},
   "outputs": [
    {
     "data": {
      "text/plain": [
       "HOHQMesh.Project(\"cycle\", \"out\", Dict{String, Any}(\"MODEL\" => Dict{String, Any}(\"OUTER_BOUNDARY\" => Dict{String, Any}(\"LIST\" => Dict{String, Any}[Dict(\"name\" => \"B1\", \"xEnd\" => \"[0.0, 48000, 0.0]\", \"TYPE\" => \"END_POINTS_LINE\", \"xStart\" => \"[0.0, 0.0, 0.0]\"), Dict(\"name\" => \"B2\", \"xEnd\" => \"[48000.0, 48000.0,0.0]\", \"TYPE\" => \"END_POINTS_LINE\", \"xStart\" => \"[0.0, 48000.0,0.0]\"), Dict(\"name\" => \"B3\", \"xEnd\" => \"[48000.0, 0.0,0.0]\", \"TYPE\" => \"END_POINTS_LINE\", \"xStart\" => \"[48000.0, 48000.0,0.0]\"), Dict(\"name\" => \"B4\", \"xEnd\" => \"[0.0, 0.0,0.0]\", \"TYPE\" => \"END_POINTS_LINE\", \"xStart\" => \"[48000.0, 0.0,0.0]\")], \"TYPE\" => \"OUTER_BOUNDARY\"), \"TYPE\" => \"MODEL\"), \"CONTROL_INPUT\" => Dict{String, Any}(\"REFINEMENT_REGIONS\" => Dict{String, Any}(\"LIST\" => Dict{String, Any}[Dict(\"name\" => \"line\", \"x1\" => \"[0.0, 48000.0, 0.0]\", \"w\" => \"10000\", \"x0\" => \"[0.0, 24000.0, 0.0]\", \"TYPE\" => \"REFINEMENT_LINE\", \"type\" => \"smooth\", \"h\" => \"80\")], \"TYPE\" => \"REFINEMENT_REGIONS\"), \"SPRING_SMOOTHER\" => Dict{String, Any}(\"smoothing type\" => \"LinearAndCrossbarSpring\", \"smoothing\" => \"ON\", \"TYPE\" => \"SPRING_SMOOTHER\", \"number of iterations\" => \"25\"), \"TYPE\" => \"CONTROL_INPUT\", \"BACKGROUND_GRID\" => Dict{String, Any}(\"background grid size\" => \"[800, 800, 0.0]\", \"x0\" => \"[0.0, 0.0, 0.0]\", \"N\" => \"[40, 60, 0]\", \"TYPE\" => \"BACKGROUND_GRID\"), \"RUN_PARAMETERS\" => Dict{String, Any}(\"mesh file name\" => \"examples/cycle.mesh\", \"plot file format\" => \"skeleton\", \"plot file name\" => \"examples/cycle.tec\", \"stats file name\" => \"none\", \"TYPE\" => \"RUN_PARAMETERS\", \"mesh file format\" => \"ISM-V2\", \"polynomial order\" => \"4\"))), nothing, 0, Any[[0.0 0.0; 0.0 24000.0; 0.0 48000.0], [0.0 48000.0; 24000.0 48000.0; 48000.0 48000.0], [48000.0 48000.0; 48000.0 24000.0; 48000.0 0.0], [48000.0 0.0; 24000.0 0.0; 0.0 0.0]], [\"B1\", \"B2\", \"B3\", \"B4\"], Any[], Any[], String[], [[-10000.0 24000.0; -10000.0 48000.0; … ; 10000.0 24000.0; -10000.0 24000.0]], [\"line\"], Array{Float64}[[0.0, 36000.0]], [48000.0, 0.0, 0.0, 48000.0], [-Inf, Inf, Inf, -Inf], Float64[], Float64[], Float64[], Float64[], true, false)"
      ]
     },
     "execution_count": 5,
     "metadata": {},
     "output_type": "execute_result"
    }
   ],
   "source": [
    "# Set the file path of the control file to be read in for this example\n",
    "\n",
    "cycle_control_file = joinpath(\"$(@__DIR__)/cycle.control\" )\n",
    "\n",
    "# Read in the HOHQMesh control file and create the project dictionary that stores\n",
    "# the different components of a mesh, i.e., boundary curves, refinement regions, etc.\n",
    "# as well as set the output folder where any generated files will be saved.\n",
    "\n",
    "p = openProject(cycle_control_file, \"out\")\n",
    "\n"
   ]
  },
  {
   "cell_type": "code",
   "execution_count": 6,
   "metadata": {},
   "outputs": [
    {
     "name": "stderr",
     "output_type": "stream",
     "text": [
      "\u001b[36m\u001b[1m[ \u001b[22m\u001b[39m\u001b[36m\u001b[1mInfo: \u001b[22m\u001b[39mPress enter to generate the mesh and update the plot.\n"
     ]
    },
    {
     "ename": "",
     "evalue": "",
     "output_type": "error",
     "traceback": [
      "\u001b[1;31mCanceled future for execute_request message before replies were done"
     ]
    },
    {
     "ename": "",
     "evalue": "",
     "output_type": "error",
     "traceback": [
      "\u001b[1;31mThe Kernel crashed while executing code in the the current cell or a previous cell. Please review the code in the cell(s) to identify a possible cause of the failure. Click <a href='https://aka.ms/vscodeJupyterKernelCrash'>here</a> for more info. View Jupyter <a href='command:jupyter.viewOutput'>log</a> for further details."
     ]
    }
   ],
   "source": [
    "# Plot the project model curves and background grid\n",
    "\n",
    "if isdefined(Main, :Makie)\n",
    "    plotProject!(p, MODEL+GRID)\n",
    "    @info \"Press enter to generate the mesh and update the plot.\"\n",
    "    readline()\n",
    " else # Throw an informational message about plotting to the user\n",
    "    @info \"To visualize the project (boundary curves, background grid, mesh, etc.), include `GLMakie` and run again.\"\n",
    " end\n",
    "\n",
    "# Generate the mesh. This produces the mesh and TecPlot files `AllFeatures.mesh` and `AllFeatures.tec`\n",
    "# and save them to the `out` folder. Also, if there is an active plot in the project `p` it is\n",
    "# updated with the mesh that was generated.\n",
    "\n",
    "generate_mesh(p)\n",
    "\n",
    "# After the mesh successfully generates mesh statistics, such as the number of corner nodes,\n",
    "# the number of elements etc., are printed to the REPL."
   ]
  },
  {
   "cell_type": "code",
   "execution_count": 4,
   "metadata": {},
   "outputs": [
    {
     "ename": "LoadError",
     "evalue": "ArgumentError: Package FileIO not found in current path.\n- Run `import Pkg; Pkg.add(\"FileIO\")` to install the FileIO package.",
     "output_type": "error",
     "traceback": [
      "ArgumentError: Package FileIO not found in current path.\n- Run `import Pkg; Pkg.add(\"FileIO\")` to install the FileIO package.",
      "",
      "Stacktrace:",
      " [1] macro expansion",
      "   @ ./loading.jl:1163 [inlined]",
      " [2] macro expansion",
      "   @ ./lock.jl:223 [inlined]",
      " [3] require(into::Module, mod::Symbol)",
      "   @ Base ./loading.jl:1144"
     ]
    }
   ],
   "source": [
    "using GLMakie\n"
   ]
  },
  {
   "cell_type": "code",
   "execution_count": 5,
   "metadata": {},
   "outputs": [],
   "source": [
    "using FileIO"
   ]
  },
  {
   "cell_type": "code",
   "execution_count": 14,
   "metadata": {},
   "outputs": [
    {
     "ename": "LoadError",
     "evalue": "No applicable_loaders found for UNKNOWN",
     "output_type": "error",
     "traceback": [
      "No applicable_loaders found for UNKNOWN",
      "",
      "Stacktrace:",
      " [1] error(s::String)",
      "   @ Base ./error.jl:35",
      " [2] applicable_loaders(sym::Symbol)",
      "   @ FileIO ~/.julia/packages/FileIO/BE7iZ/src/loadsave.jl:11",
      " [3] load(::String; options::Base.Pairs{Symbol, Union{}, Tuple{}, NamedTuple{(), Tuple{}}})",
      "   @ FileIO ~/.julia/packages/FileIO/BE7iZ/src/loadsave.jl:112",
      " [4] load(::String)",
      "   @ FileIO ~/.julia/packages/FileIO/BE7iZ/src/loadsave.jl:109",
      " [5] top-level scope",
      "   @ In[14]:1"
     ]
    }
   ],
   "source": [
    "cycle_plot = load(\"$(@__DIR__)/out/cycle.tec\")\n",
    "\n"
   ]
  },
  {
   "cell_type": "code",
   "execution_count": null,
   "metadata": {},
   "outputs": [],
   "source": [
    "mesh(cycle_plot)"
   ]
  },
  {
   "cell_type": "code",
   "execution_count": null,
   "metadata": {},
   "outputs": [],
   "source": []
  },
  {
   "cell_type": "code",
   "execution_count": null,
   "metadata": {},
   "outputs": [],
   "source": []
  },
  {
   "cell_type": "code",
   "execution_count": null,
   "metadata": {},
   "outputs": [],
   "source": []
  },
  {
   "cell_type": "code",
   "execution_count": null,
   "metadata": {},
   "outputs": [],
   "source": []
  }
 ],
 "metadata": {
  "kernelspec": {
   "display_name": "Julia 1.8.5",
   "language": "julia",
   "name": "julia-1.8"
  },
  "language_info": {
   "file_extension": ".jl",
   "mimetype": "application/julia",
   "name": "julia",
   "version": "1.8.5"
  },
  "orig_nbformat": 4,
  "vscode": {
   "interpreter": {
    "hash": "916dbcbb3f70747c44a77c7bcd40155683ae19c65e1c03b4aa3499c5328201f1"
   }
  }
 },
 "nbformat": 4,
 "nbformat_minor": 2
}
