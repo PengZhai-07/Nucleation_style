{
 "cells": [
  {
   "cell_type": "code",
   "execution_count": null,
   "id": "b0795cd2",
   "metadata": {},
   "outputs": [],
   "source": [
    "using Plots\n",
    "using PyPlot\n",
    "using StatsBase\n",
    "using LaTeXStrings\n",
    "using PyCall\n",
    "mpl = pyimport(\"matplotlib\")\n",
    "mpl.use(\"Agg\")      \n",
    "\n",
    "# Default plot params\n",
    "function plot_params()\n",
    "  plt.rc(\"xtick\", labelsize=16)\n",
    "  plt.rc(\"ytick\", labelsize=16)\n",
    "  plt.rc(\"xtick\", direction=\"in\")\n",
    "  plt.rc(\"ytick\", direction=\"in\")\n",
    "  plt.rc(\"font\", size=15)\n",
    "  plt.rc(\"figure\", autolayout=\"True\")\n",
    "  plt.rc(\"axes\", titlesize=16)\n",
    "  plt.rc(\"axes\", labelsize=17)\n",
    "  plt.rc(\"xtick.major\", width=1.5)\n",
    "  plt.rc(\"xtick.major\", size=5)\n",
    "  plt.rc(\"ytick.major\", width=1.5)\n",
    "  plt.rc(\"ytick.major\", size=5)\n",
    "  plt.rc(\"lines\", linewidth=2)\n",
    "  plt.rc(\"axes\", linewidth=1.5)\n",
    "  plt.rc(\"legend\", fontsize=13)\n",
    "  plt.rc(\"mathtext\", fontset=\"stix\")\n",
    "  plt.rc(\"font\", family=\"STIXGeneral\")\n",
    "\n",
    "  # Default width for Nature is 7.2 inches, \n",
    "  # height can be anything\n",
    "  #plt.rc(\"figure\", figsize=(7.2, 4.5))\n",
    "\n",
    "end\n",
    "\n",
    "\n",
    "\n"
   ]
  },
  {
   "cell_type": "code",
   "execution_count": null,
   "id": "6fc63fa0",
   "metadata": {},
   "outputs": [],
   "source": [
    "value = [1.2 34 54 3 5; 2 34 45 56 33; 1 6 7 6 78]\n",
    "D = size(value)\n",
    "  \n",
    "t = 1:D[2]\n",
    "x = t' .* ones(D[1])\n",
    "println(x)\n",
    "println(size(x))\n",
    "\n",
    "depth = 1:D[1]\n",
    "y = depth .* ones(D[2])'\n",
    "println(y)\n",
    "println(size(y))\n",
    "\n",
    "maximum(value)\n",
    "# maximum(maximum(value))"
   ]
  },
  {
   "cell_type": "code",
   "execution_count": null,
   "id": "7f18404c",
   "metadata": {},
   "outputs": [],
   "source": [
    "\n",
    "plot_params()\n",
    "fig = PyPlot.figure(figsize=(7.2, 4.45))\n",
    "ax = fig.add_subplot(111)   \n",
    "ax.pcolormesh(y,x, value)\n",
    "ax.set_xlabel(\"Time\")\n",
    "ax.set_ylabel(\"Depth\")\n",
    "ax.set_title(\"(a)\", position=\"upperleft\")\n"
   ]
  },
  {
   "cell_type": "code",
   "execution_count": null,
   "id": "2cbd8dde",
   "metadata": {},
   "outputs": [],
   "source": []
  }
 ],
 "metadata": {
  "kernelspec": {
   "display_name": "Julia 1.8.5",
   "language": "julia",
   "name": "julia-1.8"
  },
  "language_info": {
   "file_extension": ".jl",
   "mimetype": "application/julia",
   "name": "julia",
   "version": "1.8.5"
  }
 },
 "nbformat": 4,
 "nbformat_minor": 5
}
